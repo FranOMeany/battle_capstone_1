{
    "cells": [
        {
            "cell_type": "markdown",
            "metadata": {
                "collapsed": true
            },
            "source": "## The Battle of Neighborhoods Part I\n#### by Francisco J. O'Meany"
        },
        {
            "cell_type": "markdown",
            "metadata": {},
            "source": "## Capstone Project - The Battle of Neighborhoods\n\n\n### Introduction\nThe City of New York has been the main gateway for immigrants coming to the United States of America and its diversity makes the city one of the most attractive places for \nbusinesses as well as the culinary culture coming from many parts of the world.\n\nOne of those culinary cultures comes from Mexico and in this project we are going to find where the best and acceptable Mexican restaurants are located across New York City, \nhow people like them and what is the rating of those restaurants.\n\n\n### Data Needed\nWe need the following data:\n\n- The New York City dataset that contains the Boroughs and Neighborhoods as well as their latitude and longitude.\n     - Data source : https://cocl.us/new_york_dataset\n     - Description : We use this dataset to obtain the information needed to complete this project.\n     \n- GeoSpace data\n    - Data source : https://data.cityofnewyork.us/City-Government/Borough-Boundaries/tqmj-j8zm\n    - Description : To obtain the boundaries to visualize the location of Mexican restaurants. \n\n### How to proceed\n- Obtain data from https://cocl.us/new_york_dataset\n- Use FourSquare API\n- Find the venues for Mexican Restaurants\n- Find rating, tips and likes\n- Visualize findings\n\n### Questions\n- Where to find the best Mexican Restaurants\n- What neighborhoods don't have Mexican Restaurants\n- What's the best Mexican Restaurant to visit\n\n\n### Project Requirements\nThe following libraries will be imported:\n\n- Pandas and numpy\n- request module for Foursquare API\n- geopy to get co-ordinates\n- folium to visualize\n"
        }
    ],
    "metadata": {
        "kernelspec": {
            "display_name": "Python 3.6",
            "language": "python",
            "name": "python3"
        },
        "language_info": {
            "codemirror_mode": {
                "name": "ipython",
                "version": 3
            },
            "file_extension": ".py",
            "mimetype": "text/x-python",
            "name": "python",
            "nbconvert_exporter": "python",
            "pygments_lexer": "ipython3",
            "version": "3.6.9"
        }
    },
    "nbformat": 4,
    "nbformat_minor": 1
}