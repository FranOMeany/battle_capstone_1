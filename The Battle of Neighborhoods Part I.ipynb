{
    "cells": [
        {
            "cell_type": "markdown",
            "metadata": {
                "collapsed": true
            },
            "source": "## The Battle of Neighborhoods Part I\n#### by Francisco J. O'Meany"
        },
        {
            "cell_type": "markdown",
            "metadata": {},
            "source": "## Capstone Project - The Battle of Neighborhoods\n\n\n### Introduction\n\n\n\n### Data\n\n\n### Approach\n\n\n### Questions\n\n\n### Analysis\nThe following libraries will be imported:\n\n- Item one\n- Item two"
        }
    ],
    "metadata": {
        "kernelspec": {
            "display_name": "Python 3.6",
            "language": "python",
            "name": "python3"
        },
        "language_info": {
            "codemirror_mode": {
                "name": "ipython",
                "version": 3
            },
            "file_extension": ".py",
            "mimetype": "text/x-python",
            "name": "python",
            "nbconvert_exporter": "python",
            "pygments_lexer": "ipython3",
            "version": "3.6.8"
        }
    },
    "nbformat": 4,
    "nbformat_minor": 1
}